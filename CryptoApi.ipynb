{
 "cells": [
  {
   "cell_type": "markdown",
   "id": "3876452f",
   "metadata": {},
   "source": [
    "API Practice"
   ]
  },
  {
   "cell_type": "code",
   "execution_count": 6,
   "id": "a4532bec",
   "metadata": {},
   "outputs": [
    {
     "data": {
      "text/html": [
       "<div>\n",
       "<style scoped>\n",
       "    .dataframe tbody tr th:only-of-type {\n",
       "        vertical-align: middle;\n",
       "    }\n",
       "\n",
       "    .dataframe tbody tr th {\n",
       "        vertical-align: top;\n",
       "    }\n",
       "\n",
       "    .dataframe thead th {\n",
       "        text-align: right;\n",
       "    }\n",
       "</style>\n",
       "<table border=\"1\" class=\"dataframe\">\n",
       "  <thead>\n",
       "    <tr style=\"text-align: right;\">\n",
       "      <th></th>\n",
       "      <th>usd</th>\n",
       "      <th>timestamp</th>\n",
       "    </tr>\n",
       "  </thead>\n",
       "  <tbody>\n",
       "    <tr>\n",
       "      <th>bitcoin</th>\n",
       "      <td>115130.000000</td>\n",
       "      <td>2025-08-18 18:15:49</td>\n",
       "    </tr>\n",
       "    <tr>\n",
       "      <th>dogecoin</th>\n",
       "      <td>0.222497</td>\n",
       "      <td>2025-08-18 18:15:49</td>\n",
       "    </tr>\n",
       "    <tr>\n",
       "      <th>ethereum</th>\n",
       "      <td>4287.620000</td>\n",
       "      <td>2025-08-18 18:15:49</td>\n",
       "    </tr>\n",
       "  </tbody>\n",
       "</table>\n",
       "</div>"
      ],
      "text/plain": [
       "                    usd            timestamp\n",
       "bitcoin   115130.000000  2025-08-18 18:15:49\n",
       "dogecoin       0.222497  2025-08-18 18:15:49\n",
       "ethereum    4287.620000  2025-08-18 18:15:49"
      ]
     },
     "metadata": {},
     "output_type": "display_data"
    }
   ],
   "source": [
    "# Import the necessary libraries\n",
    "import requests   # to call the API\n",
    "import pandas as pd  # to organize data into a table\n",
    "from datetime import datetime  # to add timestamps\n",
    "\n",
    "# Define the CoinGecko API endpoint\n",
    "url = \"https://api.coingecko.com/api/v3/simple/price\"\n",
    "\n",
    "# Set the parameters (which coins, and which currency)\n",
    "params = {\n",
    "    \"ids\": \"bitcoin,ethereum,dogecoin\",   # coins we want\n",
    "    \"vs_currencies\": \"usd\"                # convert to USD\n",
    "}\n",
    "\n",
    "# Send a GET request to the API\n",
    "response = requests.get(url, params=params)\n",
    "\n",
    "# Check if the request was successful\n",
    "if response.status_code == 200:\n",
    "    data = response.json()  # parse the JSON response\n",
    "else:\n",
    "    data = {\"error\": f\"Failed to fetch prices. Status: {response.status_code}\"}\n",
    "\n",
    "# If no error, process the data\n",
    "if \"error\" not in data:\n",
    "    # Convert JSON into a DataFrame for nice table format\n",
    "    df = pd.DataFrame(data).T  # transpose so coins are rows\n",
    "    df[\"timestamp\"] = datetime.now().strftime(\"%Y-%m-%d %H:%M:%S\")  # add timestamp\n",
    "    display(df)  # show table in Jupyter\n",
    "else:\n",
    "    print(data[\"error\"])"
   ]
  },
  {
   "cell_type": "code",
   "execution_count": 3,
   "id": "65b6b227",
   "metadata": {},
   "outputs": [
    {
     "data": {
      "text/plain": [
       "{'error': 'Failed to fetch data'}"
      ]
     },
     "execution_count": 3,
     "metadata": {},
     "output_type": "execute_result"
    }
   ],
   "source": [
    "import requests\n",
    "\n",
    "symbol = \"AC\"  # default ticker\n",
    "url = f\"https://spring-psx-api.herokuapp.com/stocks/{symbol}\"\n",
    "resp = requests.get(url)\n",
    "data = resp.json() if resp.status_code == 200 else {\"error\": \"Failed to fetch data\"}\n",
    "data"
   ]
  },
  {
   "cell_type": "code",
   "execution_count": 7,
   "id": "693022b3",
   "metadata": {},
   "outputs": [
    {
     "name": "stdout",
     "output_type": "stream",
     "text": [
      "Defaulting to user installation because normal site-packages is not writeable\n",
      "Collecting dash\n",
      "  Downloading dash-3.2.0-py3-none-any.whl.metadata (10 kB)\n",
      "Collecting dash-bootstrap-components\n",
      "  Downloading dash_bootstrap_components-2.0.3-py3-none-any.whl.metadata (18 kB)\n",
      "Requirement already satisfied: requests in c:\\users\\william\\appdata\\roaming\\python\\python313\\site-packages (2.32.4)\n",
      "Requirement already satisfied: Flask<3.2,>=1.0.4 in c:\\users\\william\\appdata\\roaming\\python\\python313\\site-packages (from dash) (3.1.1)\n",
      "Requirement already satisfied: Werkzeug<3.2 in c:\\users\\william\\appdata\\roaming\\python\\python313\\site-packages (from dash) (3.1.3)\n",
      "Collecting plotly>=5.0.0 (from dash)\n",
      "  Downloading plotly-6.3.0-py3-none-any.whl.metadata (8.5 kB)\n",
      "Collecting importlib-metadata (from dash)\n",
      "  Downloading importlib_metadata-8.7.0-py3-none-any.whl.metadata (4.8 kB)\n",
      "Collecting typing-extensions>=4.1.1 (from dash)\n",
      "  Downloading typing_extensions-4.14.1-py3-none-any.whl.metadata (3.0 kB)\n",
      "Collecting retrying (from dash)\n",
      "  Downloading retrying-1.4.2-py3-none-any.whl.metadata (5.5 kB)\n",
      "Requirement already satisfied: nest-asyncio in c:\\users\\william\\appdata\\roaming\\python\\python313\\site-packages (from dash) (1.6.0)\n",
      "Collecting setuptools (from dash)\n",
      "  Downloading setuptools-80.9.0-py3-none-any.whl.metadata (6.6 kB)\n",
      "Requirement already satisfied: charset_normalizer<4,>=2 in c:\\users\\william\\appdata\\roaming\\python\\python313\\site-packages (from requests) (3.4.3)\n",
      "Requirement already satisfied: idna<4,>=2.5 in c:\\users\\william\\appdata\\roaming\\python\\python313\\site-packages (from requests) (3.10)\n",
      "Requirement already satisfied: urllib3<3,>=1.21.1 in c:\\users\\william\\appdata\\roaming\\python\\python313\\site-packages (from requests) (2.5.0)\n",
      "Requirement already satisfied: certifi>=2017.4.17 in c:\\users\\william\\appdata\\roaming\\python\\python313\\site-packages (from requests) (2025.8.3)\n",
      "Requirement already satisfied: blinker>=1.9.0 in c:\\users\\william\\appdata\\roaming\\python\\python313\\site-packages (from Flask<3.2,>=1.0.4->dash) (1.9.0)\n",
      "Requirement already satisfied: click>=8.1.3 in c:\\users\\william\\appdata\\roaming\\python\\python313\\site-packages (from Flask<3.2,>=1.0.4->dash) (8.2.1)\n",
      "Requirement already satisfied: itsdangerous>=2.2.0 in c:\\users\\william\\appdata\\roaming\\python\\python313\\site-packages (from Flask<3.2,>=1.0.4->dash) (2.2.0)\n",
      "Requirement already satisfied: jinja2>=3.1.2 in c:\\users\\william\\appdata\\roaming\\python\\python313\\site-packages (from Flask<3.2,>=1.0.4->dash) (3.1.6)\n",
      "Requirement already satisfied: markupsafe>=2.1.1 in c:\\users\\william\\appdata\\roaming\\python\\python313\\site-packages (from Flask<3.2,>=1.0.4->dash) (3.0.2)\n",
      "Collecting narwhals>=1.15.1 (from plotly>=5.0.0->dash)\n",
      "  Downloading narwhals-2.1.2-py3-none-any.whl.metadata (11 kB)\n",
      "Requirement already satisfied: packaging in c:\\users\\william\\appdata\\roaming\\python\\python313\\site-packages (from plotly>=5.0.0->dash) (24.2)\n",
      "Collecting zipp>=3.20 (from importlib-metadata->dash)\n",
      "  Downloading zipp-3.23.0-py3-none-any.whl.metadata (3.6 kB)\n",
      "Requirement already satisfied: colorama in c:\\users\\william\\appdata\\roaming\\python\\python313\\site-packages (from click>=8.1.3->Flask<3.2,>=1.0.4->dash) (0.4.6)\n",
      "Downloading dash-3.2.0-py3-none-any.whl (7.9 MB)\n",
      "   ---------------------------------------- 0.0/7.9 MB ? eta -:--:--\n",
      "   - -------------------------------------- 0.3/7.9 MB ? eta -:--:--\n",
      "   ----------- ---------------------------- 2.4/7.9 MB 10.0 MB/s eta 0:00:01\n",
      "   ------------------------- -------------- 5.0/7.9 MB 11.0 MB/s eta 0:00:01\n",
      "   ---------------------------------------  7.9/7.9 MB 11.9 MB/s eta 0:00:01\n",
      "   ---------------------------------------- 7.9/7.9 MB 11.4 MB/s eta 0:00:00\n",
      "Downloading dash_bootstrap_components-2.0.3-py3-none-any.whl (203 kB)\n",
      "Downloading plotly-6.3.0-py3-none-any.whl (9.8 MB)\n",
      "   ---------------------------------------- 0.0/9.8 MB ? eta -:--:--\n",
      "   ----------- ---------------------------- 2.9/9.8 MB 14.2 MB/s eta 0:00:01\n",
      "   ----------------------- ---------------- 5.8/9.8 MB 14.1 MB/s eta 0:00:01\n",
      "   ------------------------------------ --- 8.9/9.8 MB 14.3 MB/s eta 0:00:01\n",
      "   ---------------------------------------- 9.8/9.8 MB 13.9 MB/s eta 0:00:00\n",
      "Downloading typing_extensions-4.14.1-py3-none-any.whl (43 kB)\n",
      "Downloading importlib_metadata-8.7.0-py3-none-any.whl (27 kB)\n",
      "Downloading retrying-1.4.2-py3-none-any.whl (10 kB)\n",
      "Downloading setuptools-80.9.0-py3-none-any.whl (1.2 MB)\n",
      "   ---------------------------------------- 0.0/1.2 MB ? eta -:--:--\n",
      "   ---------------------------------------- 1.2/1.2 MB 14.0 MB/s eta 0:00:00\n",
      "Downloading narwhals-2.1.2-py3-none-any.whl (392 kB)\n",
      "Downloading zipp-3.23.0-py3-none-any.whl (10 kB)\n",
      "Installing collected packages: zipp, typing-extensions, setuptools, retrying, narwhals, plotly, importlib-metadata, dash, dash-bootstrap-components\n",
      "Successfully installed dash-3.2.0 dash-bootstrap-components-2.0.3 importlib-metadata-8.7.0 narwhals-2.1.2 plotly-6.3.0 retrying-1.4.2 setuptools-80.9.0 typing-extensions-4.14.1 zipp-3.23.0\n",
      "Note: you may need to restart the kernel to use updated packages.\n"
     ]
    },
    {
     "name": "stderr",
     "output_type": "stream",
     "text": [
      "\n",
      "[notice] A new release of pip is available: 24.3.1 -> 25.2\n",
      "[notice] To update, run: python.exe -m pip install --upgrade pip\n"
     ]
    }
   ],
   "source": [
    "pip install dash dash-bootstrap-components requests"
   ]
  },
  {
   "cell_type": "code",
   "execution_count": 9,
   "id": "625a9989",
   "metadata": {},
   "outputs": [
    {
     "data": {
      "text/html": [
       "\n",
       "        <iframe\n",
       "            width=\"100%\"\n",
       "            height=\"650\"\n",
       "            src=\"http://127.0.0.1:8050/\"\n",
       "            frameborder=\"0\"\n",
       "            allowfullscreen\n",
       "            \n",
       "        ></iframe>\n",
       "        "
      ],
      "text/plain": [
       "<IPython.lib.display.IFrame at 0x1e6e7ee4d70>"
      ]
     },
     "metadata": {},
     "output_type": "display_data"
    }
   ],
   "source": [
    "import requests\n",
    "import dash\n",
    "from dash import html, dcc\n",
    "from dash.dependencies import Output, Input\n",
    "import dash_bootstrap_components as dbc\n",
    "import datetime\n",
    "\n",
    "# ----------------------\n",
    "# Setup Dash App\n",
    "# ----------------------\n",
    "app = dash.Dash(__name__, external_stylesheets=[dbc.themes.CYBORG])  # dark theme\n",
    "\n",
    "# ----------------------\n",
    "# Define layout\n",
    "# ----------------------\n",
    "app.layout = dbc.Container([\n",
    "    html.H1(\"🚀 Live Crypto Prices Dashboard\", className=\"text-center text-light mb-4\"),\n",
    "\n",
    "    # Display last updated time\n",
    "    html.Div(id=\"last-update\", className=\"text-info mb-3\"),\n",
    "\n",
    "    # Placeholders for live prices\n",
    "    dbc.Row([\n",
    "        dbc.Col(dbc.Card([\n",
    "            dbc.CardHeader(\"Bitcoin (BTC)\"),\n",
    "            dbc.CardBody(html.H2(id=\"btc-price\", className=\"text-success\"))\n",
    "        ], className=\"shadow-lg rounded-3\"), width=4),\n",
    "\n",
    "        dbc.Col(dbc.Card([\n",
    "            dbc.CardHeader(\"Ethereum (ETH)\"),\n",
    "            dbc.CardBody(html.H2(id=\"eth-price\", className=\"text-success\"))\n",
    "        ], className=\"shadow-lg rounded-3\"), width=4),\n",
    "\n",
    "        dbc.Col(dbc.Card([\n",
    "            dbc.CardHeader(\"Dogecoin (DOGE)\"),\n",
    "            dbc.CardBody(html.H2(id=\"doge-price\", className=\"text-success\"))\n",
    "        ], className=\"shadow-lg rounded-3\"), width=4),\n",
    "    ], className=\"mb-4\"),\n",
    "\n",
    "    # Auto refresh every 10 seconds\n",
    "    dcc.Interval(\n",
    "        id=\"interval-component\",\n",
    "        interval=10*1000,  # 10 seconds\n",
    "        n_intervals=0\n",
    "    )\n",
    "], fluid=True)\n",
    "\n",
    "# ----------------------\n",
    "# Define callback (updates prices every interval)\n",
    "# ----------------------\n",
    "@app.callback(\n",
    "    [Output(\"btc-price\", \"children\"),\n",
    "     Output(\"eth-price\", \"children\"),\n",
    "     Output(\"doge-price\", \"children\"),\n",
    "     Output(\"last-update\", \"children\")],\n",
    "    [Input(\"interval-component\", \"n_intervals\")]\n",
    ")\n",
    "def update_prices(n):\n",
    "    # API endpoint\n",
    "    url = \"https://api.coingecko.com/api/v3/simple/price\"\n",
    "    params = {\"ids\": \"bitcoin,ethereum,dogecoin\", \"vs_currencies\": \"usd\"}\n",
    "\n",
    "    # Fetch data\n",
    "    try:\n",
    "        response = requests.get(url, params=params)\n",
    "        data = response.json()\n",
    "        btc = f\"${data['bitcoin']['usd']:,}\"\n",
    "        eth = f\"${data['ethereum']['usd']:,}\"\n",
    "        doge = f\"${data['dogecoin']['usd']:,}\"\n",
    "        timestamp = f\"Last updated: {datetime.datetime.now().strftime('%Y-%m-%d %H:%M:%S')}\"\n",
    "    except:\n",
    "        btc, eth, doge, timestamp = \"Error\", \"Error\", \"Error\", \"API Fetch Failed\"\n",
    "\n",
    "    return btc, eth, doge, timestamp\n",
    "\n",
    "# ----------------------\n",
    "# Run app\n",
    "# ----------------------\n",
    "app.run(debug=True)"
   ]
  }
 ],
 "metadata": {
  "kernelspec": {
   "display_name": "Python 3",
   "language": "python",
   "name": "python3"
  },
  "language_info": {
   "codemirror_mode": {
    "name": "ipython",
    "version": 3
   },
   "file_extension": ".py",
   "mimetype": "text/x-python",
   "name": "python",
   "nbconvert_exporter": "python",
   "pygments_lexer": "ipython3",
   "version": "3.13.2"
  }
 },
 "nbformat": 4,
 "nbformat_minor": 5
}
