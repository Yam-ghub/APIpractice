{
 "cells": [
  {
   "cell_type": "markdown",
   "id": "3876452f",
   "metadata": {},
   "source": [
    "API Practice"
   ]
  },
  {
   "cell_type": "code",
   "execution_count": 6,
   "id": "a4532bec",
   "metadata": {},
   "outputs": [
    {
     "data": {
      "text/html": [
       "<div>\n",
       "<style scoped>\n",
       "    .dataframe tbody tr th:only-of-type {\n",
       "        vertical-align: middle;\n",
       "    }\n",
       "\n",
       "    .dataframe tbody tr th {\n",
       "        vertical-align: top;\n",
       "    }\n",
       "\n",
       "    .dataframe thead th {\n",
       "        text-align: right;\n",
       "    }\n",
       "</style>\n",
       "<table border=\"1\" class=\"dataframe\">\n",
       "  <thead>\n",
       "    <tr style=\"text-align: right;\">\n",
       "      <th></th>\n",
       "      <th>usd</th>\n",
       "      <th>timestamp</th>\n",
       "    </tr>\n",
       "  </thead>\n",
       "  <tbody>\n",
       "    <tr>\n",
       "      <th>bitcoin</th>\n",
       "      <td>115130.000000</td>\n",
       "      <td>2025-08-18 18:15:49</td>\n",
       "    </tr>\n",
       "    <tr>\n",
       "      <th>dogecoin</th>\n",
       "      <td>0.222497</td>\n",
       "      <td>2025-08-18 18:15:49</td>\n",
       "    </tr>\n",
       "    <tr>\n",
       "      <th>ethereum</th>\n",
       "      <td>4287.620000</td>\n",
       "      <td>2025-08-18 18:15:49</td>\n",
       "    </tr>\n",
       "  </tbody>\n",
       "</table>\n",
       "</div>"
      ],
      "text/plain": [
       "                    usd            timestamp\n",
       "bitcoin   115130.000000  2025-08-18 18:15:49\n",
       "dogecoin       0.222497  2025-08-18 18:15:49\n",
       "ethereum    4287.620000  2025-08-18 18:15:49"
      ]
     },
     "metadata": {},
     "output_type": "display_data"
    }
   ],
   "source": [
    "# Import the necessary libraries\n",
    "import requests   # to call the API\n",
    "import pandas as pd  # to organize data into a table\n",
    "from datetime import datetime  # to add timestamps\n",
    "\n",
    "# Define the CoinGecko API endpoint\n",
    "url = \"https://api.coingecko.com/api/v3/simple/price\"\n",
    "\n",
    "# Set the parameters (which coins, and which currency)\n",
    "params = {\n",
    "    \"ids\": \"bitcoin,ethereum,dogecoin\",   # coins we want\n",
    "    \"vs_currencies\": \"usd\"                # convert to USD\n",
    "}\n",
    "\n",
    "# Send a GET request to the API\n",
    "response = requests.get(url, params=params)\n",
    "\n",
    "# Check if the request was successful\n",
    "if response.status_code == 200:\n",
    "    data = response.json()  # parse the JSON response\n",
    "else:\n",
    "    data = {\"error\": f\"Failed to fetch prices. Status: {response.status_code}\"}\n",
    "\n",
    "# If no error, process the data\n",
    "if \"error\" not in data:\n",
    "    # Convert JSON into a DataFrame for nice table format\n",
    "    df = pd.DataFrame(data).T  # transpose so coins are rows\n",
    "    df[\"timestamp\"] = datetime.now().strftime(\"%Y-%m-%d %H:%M:%S\")  # add timestamp\n",
    "    display(df)  # show table in Jupyter\n",
    "else:\n",
    "    print(data[\"error\"])"
   ]
  },
  {
   "cell_type": "code",
   "execution_count": 4,
   "id": "65b6b227",
   "metadata": {},
   "outputs": [
    {
     "name": "stdout",
     "output_type": "stream",
     "text": [
      "{'bitcoin': {'usd': 115128}, 'dogecoin': {'usd': 0.22203}, 'ethereum': {'usd': 4281.64}}\n"
     ]
    }
   ],
   "source": [
    "import requests\n",
    "\n",
    "# Set the parameters for the API call\n",
    "params = {\n",
    "    \"ids\": \"bitcoin,ethereum,dogecoin\",   # coins you want\n",
    "    \"vs_currencies\": \"usd\"                # convert to USD\n",
    "}\n",
    "\n",
    "url = \"https://api.coingecko.com/api/v3/simple/price\"\n",
    "resp = requests.get(url, params=params)\n",
    "data = resp.json() if resp.status_code == 200 else {\"error\": \"Failed to fetch data\"}\n",
    "print(data)"
   ]
  },
  {
   "cell_type": "code",
   "execution_count": 1,
   "id": "693022b3",
   "metadata": {},
   "outputs": [
    {
     "name": "stdout",
     "output_type": "stream",
     "text": [
      "Raw JSON data from API:\n",
      "{'bitcoin': {'usd': 115128}, 'dogecoin': {'usd': 0.22203}, 'ethereum': {'usd': 4281.64}}\n",
      "\n",
      "Formatted Table:\n",
      "                   usd            timestamp\n",
      "bitcoin   115128.00000  2025-08-18 18:34:57\n",
      "dogecoin       0.22203  2025-08-18 18:34:57\n",
      "ethereum    4281.64000  2025-08-18 18:34:57\n"
     ]
    }
   ],
   "source": [
    "# API Practice\n",
    "\n",
    "# 1. Import the necessary libraries\n",
    "import requests   # to call the API\n",
    "import pandas as pd  # to organize data into a table\n",
    "from datetime import datetime  # to add timestamps\n",
    "\n",
    "# 2. Define the CoinGecko API endpoint and parameters\n",
    "url = \"https://api.coingecko.com/api/v3/simple/price\"\n",
    "params = {\n",
    "    \"ids\": \"bitcoin,ethereum,dogecoin\",   # coins we want\n",
    "    \"vs_currencies\": \"usd\"                # convert to USD\n",
    "}\n",
    "\n",
    "# 3. Send a GET request to the API\n",
    "response = requests.get(url, params=params)\n",
    "\n",
    "# 4. Check if the request was successful and handle the JSON response\n",
    "if response.status_code == 200:\n",
    "    data = response.json()  # parse the JSON response\n",
    "    print(\"Raw JSON data from API:\")\n",
    "    print(data)\n",
    "else:\n",
    "    print(f\"Failed to fetch prices. Status: {response.status_code}\")\n",
    "\n",
    "# 5. (Optional) Convert JSON into a DataFrame for a nice table format\n",
    "if response.status_code == 200:\n",
    "    df = pd.DataFrame(data).T  # transpose so coins are rows\n",
    "    df[\"timestamp\"] = datetime.now().strftime(\"%Y-%m-%d %H:%M:%S\")  # add timestamp\n",
    "    print(\"\\nFormatted Table:\")\n",
    "    print(df)"
   ]
  }
 ],
 "metadata": {
  "kernelspec": {
   "display_name": "Python 3",
   "language": "python",
   "name": "python3"
  },
  "language_info": {
   "codemirror_mode": {
    "name": "ipython",
    "version": 3
   },
   "file_extension": ".py",
   "mimetype": "text/x-python",
   "name": "python",
   "nbconvert_exporter": "python",
   "pygments_lexer": "ipython3",
   "version": "3.13.2"
  }
 },
 "nbformat": 4,
 "nbformat_minor": 5
}
